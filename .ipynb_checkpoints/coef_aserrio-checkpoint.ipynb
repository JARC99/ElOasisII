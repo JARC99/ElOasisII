{
 "cells": [
  {
   "cell_type": "markdown",
   "metadata": {},
   "source": [
    "# Coeficiente de Aserrio\n",
    "> Dado un vector de diámetros de fuste y dimensiones de las piezas a extraer, se calcula el coeficiente de aserrio para cada caso."
   ]
  },
  {
   "cell_type": "code",
   "execution_count": null,
   "metadata": {},
   "outputs": [],
   "source": [
    "import numpy as np"
   ]
  },
  {
   "cell_type": "markdown",
   "metadata": {},
   "source": [
    "> Debajo se declara en **metros** el vector de diámetros de la siguiente forma: np.arange(**valor inicial, valor final + paso, paso**). Una vez declarado, éste se convierte a pulgadas."
   ]
  },
  {
   "cell_type": "code",
   "execution_count": null,
   "metadata": {},
   "outputs": [],
   "source": [
    "#DAPs\n",
    "diametrosarray_m = np.arange(0.36, 0.57, 0.01)\n",
    "diametrosarray_in = diametrosarray_m / 0.0254 "
   ]
  },
  {
   "cell_type": "markdown",
   "metadata": {},
   "source": [
    "> Debajo se declara en **pies** el vector de largos de la siguiente forma: np.arange(**valor inicial, valor final + paso, paso**). Una vez declarado, éste se convierte a pulgadas."
   ]
  },
  {
   "cell_type": "code",
   "execution_count": null,
   "metadata": {},
   "outputs": [],
   "source": [
    "#%% Largos\n",
    "largoarray_ft = np.arange(7, 14, 1)\n",
    "largoarray_in = 12*np.arange(7, 14, 1)"
   ]
  },
  {
   "cell_type": "markdown",
   "metadata": {},
   "source": [
    "> Debajo se selecciona el herramental de trabajo. Dependiendo de la selección, se habrá de comentar con un **#** al inicio de la línea el otro valor. <br>\n",
    "**Ejemplo.** Si se desea usar la Woodmizer como herramient ade trabajo, el código de la celda de abajo deberá ser:\n",
    "        #Luz\n",
    "        luz_mm = 3.429 #Luz de Woodmizer \n",
    "        # luz_mm = 9.525 #Luz de Motosierra \n",
    "        luz_in = luz_mm/25.4"
   ]
  },
  {
   "cell_type": "code",
   "execution_count": null,
   "metadata": {},
   "outputs": [],
   "source": [
    "#Luz\n",
    "#luz_mm = 3.429 #Luz de Woodmizer\n",
    "luz_mm = 9.525 #Luz de Motosierra\n",
    "luz_in = luz_mm/25.4"
   ]
  },
  {
   "cell_type": "markdown",
   "metadata": {},
   "source": [
    "> Debajo se declara en **pulgadas** el vector de anchos de tabla siguiente forma: np.arange(**valor inicial, valor final + paso, paso**). Así también se declara el espesor y refuerzos de ésta."
   ]
  },
  {
   "cell_type": "code",
   "execution_count": null,
   "metadata": {},
   "outputs": [],
   "source": [
    "#%% Tabla\n",
    "anchotablaarray_in = np.arange(4, 15, 1)\n",
    "esptabla_in = 10\n",
    "refuerzoanchotabla_in = 1/4\n",
    "refuerzoesptabla_in = 1/8"
   ]
  },
  {
   "cell_type": "markdown",
   "metadata": {},
   "source": [
    "> Debajo se declara en **pulgadas** el vector de anchos de tablón siguiente forma: np.arange(**valor inicial, valor final + paso, paso**). Así también se declara el espesor y refuerzos de éste."
   ]
  },
  {
   "cell_type": "code",
   "execution_count": null,
   "metadata": {},
   "outputs": [],
   "source": [
    "#%%Tablón\n",
    "anchotablonarray_in = np.arange(4, 15, 1)\n",
    "esptablon_in = 2\n",
    "refuerzoanchotablon_in = 1/4\n",
    "refuerzoesptablon_in = 1/8"
   ]
  },
  {
   "cell_type": "code",
   "execution_count": null,
   "metadata": {},
   "outputs": [],
   "source": [
    "#%% No. tablones\n",
    "\n",
    "for diametro_in in diametrosarray_in:\n",
    "    no_franjastablon_ = (diametro_in)//(esptablon_in + refuerzoesptablon_in + luz_in)\n",
    "    \n",
    "    if (no_franjastablon_ % 2!= 0):\n",
    "        pasoini_in = (esptablon_in + refuerzoesptablon_in + luz_in)/2\n",
    "        pasotablonarray_in = np.array([pasoini_in])\n",
    "    else:\n",
    "        pasoini_in = 0 \n",
    "        pasotablonarray_in = np.array([pasoini_in])\n",
    "    \n",
    "    for i in range(int(no_franjastablon_//2)):\n",
    "        pasotablonarray_in = np.append(pasotablonarray_in, (pasoini_in + esptablon_in + refuerzoesptablon_in + luz_in))\n",
    "        pasoini_in = pasoini_in + esptablon_in + refuerzoesptablon_in + luz_in\n",
    "        \n",
    "    anchofranjatablonarray_in = 2*np.sqrt((diametro_in/2)**2 - pasotablonarray_in**2)   \n",
    "  \n",
    "#%% No. tablas\n",
    "    \n",
    "    sobrantever_in = (diametro_in % (esptablon_in + refuerzoesptablon_in + luz_in))/2\n",
    "    no_franjastabla_ = (sobrantever_in)//(esptabla_in + refuerzoesptabla_in + luz_in)\n",
    "\n",
    "    if no_franjastabla_ > 0:\n",
    "        pasoini_in = pasoini_in + esptabla_in + refuerzoesptabla_in + luz_in\n",
    "        pasotablaarray_in = np.array([pasoini_in])\n",
    "        for i in range(int(no_franjastabla_) - 1):\n",
    "            pasotablaarray_in = np.append(pasotablaarray_in, (pasoini_in + esptabla_in + refuerzoesptabla_in + luz_in))\n",
    "            pasoini_in = pasoini_in + esptabla_in + refuerzoesptabla_in + luz_in\n",
    "        \n",
    "        anchofranjatablaarray_in = 2*np.sqrt((diametro_in/2)**2 - pasotablaarray_in**2)\n",
    "        print(anchofranjatablaarray_in)\n",
    "    \n",
    "    else:\n",
    "        pasotablaarray_in  = np.array([])\n",
    "        anchofranjatablaarray_in = np.array([])\n",
    "    \n",
    " #%% Imprsiones\n",
    " \n",
    "    print(\"Diámetro del tronco = {0:.2f} in = {1:.2f} cm\".format(diametro_in, diametro_in*2.54))\n",
    "    print(\"No. de franjas de {1} in = {0}\".format(no_franjastablon_, esptablon_in))\n",
    "    print(\"No. de franjas de {1} in = {0}\".format(no_franjastabla_, esptabla_in))\n",
    "    \n",
    "    if (no_franjastablon_ % 2 == 0):\n",
    "        pasotablonarray_in = np.delete(pasotablonarray_in, 0)   \n",
    "        anchofranjatablonarraytrunc_in = np.delete(anchofranjatablonarray_in, 0)\n",
    "        anchofranjatablonarray_in = anchofranjatablonarraytrunc_in \n",
    "        print(\"Coordenada z de cortes: {0}\".format(np.concatenate((np.flip(pasotablaarray_in), np.flip(pasotablonarray_in), np.array([0]), -1*pasotablonarray_in, -1*pasotablaarray_in))))\n",
    "        print(\"Ancho de franjas: {0}\".format(np.concatenate((np.flip(anchofranjatablaarray_in), np.flip(anchofranjatablonarraytrunc_in), anchofranjatablonarraytrunc_in, anchofranjatablaarray_in))))\n",
    "    else:\n",
    "        anchofranjatablonmedval_in = anchofranjatablonarray_in[0]\n",
    "        anchofranjatablonarraytrunc_in = np.delete(anchofranjatablonarray_in, 0)\n",
    "        print(\"Coordenada z de cortes: {0}\".format(np.concatenate((np.flip(pasotablaarray_in), np.flip(pasotablonarray_in), -1*pasotablonarray_in, -1*pasotablaarray_in))))\n",
    "        print(\"Ancho de franjas: {0}\".format(np.concatenate((np.flip(anchofranjatablaarray_in), np.flip(anchofranjatablonarraytrunc_in), np.array([anchofranjatablonmedval_in]), anchofranjatablonarraytrunc_in, anchofranjatablaarray_in))))\n",
    "\n",
    " #%% Ancho de pieza de 1 in\n",
    "    areaaprovlist_in2 = []\n",
    "    if no_franjastabla_ > 0:\n",
    "        for anchofranjatabla_in in anchofranjatablaarray_in:\n",
    "            sobrantehor_in = anchofranjatabla_in\n",
    "            pzaspfranja = {}\n",
    "            for anchotabla_in in np.flip(anchotablaarray_in):\n",
    "                pzaspfranja[anchotabla_in] = sobrantehor_in // (anchotabla_in + refuerzoanchotabla_in + luz_in) \n",
    "                sobrantehor_in = sobrantehor_in % (anchotabla_in + refuerzoanchotabla_in + luz_in)\n",
    "                for ancho, pzapfranja in  pzaspfranja.items():\n",
    "                    usedarea_in2 = 2*(ancho + refuerzoanchotablon_in)*(esptablon_in + refuerzoesptablon_in)*pzapfranja\n",
    "                    areaaprovlist_in2.append(usedarea_in2)\n",
    "        print(\"Anchos de tablas in por franja: {0}\".format(pzaspfranja))      \n",
    "    else:\n",
    "        pass\n",
    "        \n",
    "#%% Ancho de pieza de 2 in\n",
    "    k=1\n",
    "    for anchofranjatablon_in in np.flip(anchofranjatablonarray_in):\n",
    "        sobrantehor_in = anchofranjatablon_in\n",
    "        pzaspfranja = {}\n",
    "        for anchotablon_in in np.flip(anchotablonarray_in):\n",
    "            pzaspfranja[anchotablon_in] = sobrantehor_in // (anchotablon_in + refuerzoanchotablon_in + luz_in) \n",
    "            sobrantehor_in = sobrantehor_in % (anchotablon_in + refuerzoanchotablon_in + luz_in) \n",
    "        \n",
    "        if no_franjastablon_ % 2 == 0: \n",
    "            for ancho, pzapfranja in  pzaspfranja.items():\n",
    "                usedarea_in2 = 2*(ancho)*(esptablon_in)*pzapfranja\n",
    "                areaaprovlist_in2.append(usedarea_in2)\n",
    "        else: \n",
    "            for ancho, pzapfranja in  pzaspfranja.items():\n",
    "                if k == len(anchofranjatablonarray_in):\n",
    "                    usedarea_in2 = (ancho)*(esptablon_in)*pzapfranja\n",
    "                else:\n",
    "                    usedarea_in2 = 2*(ancho)*(esptablon_in)*pzapfranja\n",
    "                areaaprovlist_in2.append(usedarea_in2)  \n",
    "        k += 1\n",
    "        \n",
    "        print(\"Anchos de tablones in por franja: {0}\".format(pzaspfranja))\n",
    "\n",
    "#%% Área y volumen aprovechados\n",
    "        \n",
    "    areaaprovarray_in2 = np.array(areaaprovlist_in2)\n",
    "    sumaareaaprov_in2 = np.sum(areaaprovarray_in2)\n",
    "    areafuste_in2 = (np.pi*diametro_in**2/4)\n",
    "    porcareaaprov = sumaareaaprov_in2 / areafuste_in2 *100\n",
    "    volumenaprovarray_FBM = np.around(sumaareaaprov_in2*largoarray_in/144, 2)\n",
    "    volumenfuste_FBM = np.around(areafuste_in2*largoarray_in/144, 2)\n",
    "    print(\"Largos de fuste = {0}\".format(largoarray_ft))\n",
    "    print(\"Volumenes de fuste = {0} FBM\".format(volumenfuste_FBM))\n",
    "    print(\"Volumen extraido = {0} FBM\".format(volumenaprovarray_FBM))\n",
    "    print(\"Porcentaje de área aprovechada = {0:.2f} %\".format(porcareaaprov))\n",
    "    print(\"_____________________________________________________________________________\")\n",
    "    print(\"\\n\")"
   ]
  }
 ],
 "metadata": {
  "kernelspec": {
   "display_name": "Python 3",
   "language": "python",
   "name": "python3"
  },
  "language_info": {
   "codemirror_mode": {
    "name": "ipython",
    "version": 3
   },
   "file_extension": ".py",
   "mimetype": "text/x-python",
   "name": "python",
   "nbconvert_exporter": "python",
   "pygments_lexer": "ipython3",
   "version": "3.7.4"
  }
 },
 "nbformat": 4,
 "nbformat_minor": 4
}
